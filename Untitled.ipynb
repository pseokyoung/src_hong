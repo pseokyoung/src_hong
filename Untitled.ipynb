{
 "cells": [
  {
   "cell_type": "code",
   "execution_count": 4,
   "metadata": {},
   "outputs": [
    {
     "name": "stdout",
     "output_type": "stream",
     "text": [
      "1\n",
      "2\n",
      "3\n"
     ]
    }
   ],
   "source": [
    "# next()\n",
    "'''\n",
    "a method for iterating over a sequence\n",
    "Syntax : next(iter, stopdef)\n",
    "\n",
    "Parameters : \n",
    "  iter : The iterator over which iteration is to be performed.\n",
    "  stopdef : Default value to be printed if we reach end of iterator.\n",
    "\n",
    "Return : Returns next element from the list, if not present prints the default value. If default value is not present, raises the StopIteration error.\n",
    "'''\n",
    "# define a list\n",
    "list_a = [1, 2, 3]  \n",
    "# create list_iterator\n",
    "list_iter = iter(list_a)  \n",
    " \n",
    "while True:\n",
    "    # item will be \"end\" if iteration is complete\n",
    "    item = next(list_iter, \"end\")\n",
    "    if item == \"end\":\n",
    "        break\n",
    "    print(item)"
   ]
  },
  {
   "cell_type": "markdown",
   "metadata": {},
   "source": [
    "## shutil"
   ]
  },
  {
   "cell_type": "code",
   "execution_count": 1,
   "metadata": {},
   "outputs": [],
   "source": [
    "import shutil"
   ]
  },
  {
   "cell_type": "markdown",
   "metadata": {},
   "source": [
    "### copyfile\n",
    "\n",
    "copy the content of the source file to the destination file."
   ]
  },
  {
   "cell_type": "code",
   "execution_count": null,
   "metadata": {},
   "outputs": [],
   "source": [
    "src_dir = 'C://Users/from_dir' # source file\n",
    "dst_dir   = 'C://Users/to_dir' # destination file\n",
    "\n",
    "shutil.copyfile(src=src_dir, dst=dst_dir) "
   ]
  },
  {
   "cell_type": "markdown",
   "metadata": {},
   "source": []
  },
  {
   "cell_type": "markdown",
   "metadata": {},
   "source": [
    "## os"
   ]
  },
  {
   "cell_type": "code",
   "execution_count": null,
   "metadata": {},
   "outputs": [],
   "source": [
    "import os"
   ]
  },
  {
   "cell_type": "markdown",
   "metadata": {},
   "source": [
    "### path.exists()"
   ]
  },
  {
   "cell_type": "code",
   "execution_count": null,
   "metadata": {},
   "outputs": [],
   "source": [
    "# check if a file or folder exists in the directory\n",
    "check_dir = 'C://Users/user_name/...'\n",
    "os.path.exists(check_dir)"
   ]
  },
  {
   "cell_type": "markdown",
   "metadata": {},
   "source": [
    "### listdir"
   ]
  },
  {
   "cell_type": "code",
   "execution_count": null,
   "metadata": {},
   "outputs": [],
   "source": [
    "# get the list of all files and folders at the directory\n",
    "check_dir = 'C://Users/user_name/...'\n",
    "all_list = os.listdir(check_dir)"
   ]
  }
 ],
 "metadata": {
  "kernelspec": {
   "display_name": "Python 3",
   "language": "python",
   "name": "python3"
  },
  "language_info": {
   "codemirror_mode": {
    "name": "ipython",
    "version": 3
   },
   "file_extension": ".py",
   "mimetype": "text/x-python",
   "name": "python",
   "nbconvert_exporter": "python",
   "pygments_lexer": "ipython3",
   "version": "3.9.12"
  }
 },
 "nbformat": 4,
 "nbformat_minor": 2
}
